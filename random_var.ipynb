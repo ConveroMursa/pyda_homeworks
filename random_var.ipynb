{
 "cells": [
  {
   "cell_type": "markdown",
   "metadata": {},
   "source": [
    "# Домашнее задание\n",
    "\n",
    "Смоделировать игру против лотерейного автомата типа \"777\". \n",
    "\n",
    "Игрок платит 1 руб., после чего выпадает случайное целое число, равномерно распределенное от 0 до 999. \n",
    "\n",
    "При некоторых значениях числа игрок получает выигрыш:\n",
    "\n",
    "777: 200 руб.\n",
    "\n",
    "999: 100 руб.\n",
    "\n",
    "555: 50 руб.\n",
    "\n",
    "333: 15 руб.\n",
    "\n",
    "111: 10 руб.\n",
    "\n",
    "*77: 5 руб.\n",
    "\n",
    "**7: 3 руб.\n",
    "\n",
    "*00: 2 руб.\n",
    "\n",
    "**0: 1 руб.\n",
    "\n",
    "Сколько в среднем приобретает или теряет игрок за одну игру?"
   ]
  },
  {
   "cell_type": "code",
   "execution_count": 1,
   "metadata": {},
   "outputs": [],
   "source": [
    "import numpy as np"
   ]
  },
  {
   "cell_type": "code",
   "execution_count": 2,
   "metadata": {},
   "outputs": [
    {
     "name": "stdout",
     "output_type": "stream",
     "text": [
      "0.697982\n"
     ]
    }
   ],
   "source": [
    "\n",
    "sum_of_win = 0  #Выигрыш\n",
    "trials = 1000000    # Количество попыток\n",
    "\n",
    "for i in range(trials):\n",
    "    num = str(np.random.randint(0, 999))# Случайное количество очков от 000 до 999\n",
    "    if len(num)<2:\n",
    "        num = '00' + str(num)\n",
    "    if len(num)>=2 and len(num)<3:\n",
    "        num = '0' + str(num) \n",
    "    if int(num) == 777:\n",
    "        sum_of_win += 200\n",
    "    if int(num) == 999:\n",
    "        sum_of_win += 100\n",
    "    if int(num) == 555:\n",
    "        sum_of_win += 50\n",
    "    if int(num) == 333:\n",
    "        sum_of_win += 15\n",
    "    if int(num) == 111:\n",
    "        sum_of_win += 10\n",
    "    if num[1:3] == '77' and num[0] != '7':\n",
    "        sum_of_win += 5\n",
    "    if num[-1] == '7' and num[1] != '7':\n",
    "        sum_of_win += 3\n",
    "    if num[1:3] == '00':\n",
    "        sum_of_win += 2\n",
    "    if num[-1] == '0' and num[1] != '0':\n",
    "        sum_of_win += 1  \n",
    "print(sum_of_win/trials) #средний выигрыш"
   ]
  },
  {
   "cell_type": "markdown",
   "metadata": {},
   "source": [
    "Так как игра стоит 1 руб, а средний выигрыш около 0,7 руб, это занятие явно не выгодно игроку."
   ]
  },
  {
   "cell_type": "markdown",
   "metadata": {},
   "source": [
    "# Дополнительное задание повышенной сложности. \n",
    "Теоретически рассчитать средний выигрыш (проигрыш) и сравнить с результатами моделирования"
   ]
  },
  {
   "cell_type": "code",
   "execution_count": 3,
   "metadata": {},
   "outputs": [
    {
     "data": {
      "text/plain": [
       "0.8450000000000001"
      ]
     },
     "execution_count": 3,
     "metadata": {},
     "output_type": "execute_result"
    }
   ],
   "source": [
    "200*1/1000+100*1/1000+50*1/1000+15*1/1000+10*1/1000+5*10/1000+3*100/1000+2*10/1000+1*100/1000"
   ]
  },
  {
   "cell_type": "markdown",
   "metadata": {},
   "source": [
    "Теоретический выигрыш и смоделированный должны не намного отличаться в данном случае теоретический получился немного выше."
   ]
  }
 ],
 "metadata": {
  "kernelspec": {
   "display_name": "Python 3",
   "language": "python",
   "name": "python3"
  },
  "language_info": {
   "codemirror_mode": {
    "name": "ipython",
    "version": 3
   },
   "file_extension": ".py",
   "mimetype": "text/x-python",
   "name": "python",
   "nbconvert_exporter": "python",
   "pygments_lexer": "ipython3",
   "version": "3.8.3"
  }
 },
 "nbformat": 4,
 "nbformat_minor": 5
}
