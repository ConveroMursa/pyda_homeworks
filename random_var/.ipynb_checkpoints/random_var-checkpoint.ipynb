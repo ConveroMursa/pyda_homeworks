{
 "cells": [
  {
   "cell_type": "markdown",
   "id": "38f3d5dc",
   "metadata": {},
   "source": [
    "# Домашнее задание\n",
    "\n",
    "Смоделировать игру против лотерейного автомата типа \"777\".   \n",
    "Игрок платит 1 руб., после чего выпадает случайное целое число, равномерно распределенное от 0 до 999.   \n",
    "При некоторых значениях числа игрок получает выигрыш:  \n",
    "777: 200 руб.  \n",
    "999: 100 руб.  \n",
    "555: 50 руб.  \n",
    "333: 15 руб.  \n",
    "111: 10 руб.  \n",
    "x77: 5 руб.  \n",
    "xx7: 3 руб.    \n",
    "x00: 2 руб.    \n",
    "xx0: 1 руб.    \n",
    "Сколько в среднем приобретает или теряет игрок за одну игру?"
   ]
  },
  {
   "cell_type": "code",
   "execution_count": 1,
   "id": "b27abd56",
   "metadata": {},
   "outputs": [],
   "source": [
    "import numpy as np"
   ]
  },
  {
   "cell_type": "code",
   "execution_count": 2,
   "id": "7449d3b1",
   "metadata": {},
   "outputs": [
    {
     "name": "stdout",
     "output_type": "stream",
     "text": [
      "0.80515\n"
     ]
    }
   ],
   "source": [
    "sum_of_win = 0  #Выигрыш\n",
    "trials = 1000000    # Количество попыток\n",
    "\n",
    "for i in range(trials):\n",
    "    num = str(np.random.randint(0, 1000))# Исправила\n",
    "    if len(num)<2:\n",
    "        num = '00' + str(num)\n",
    "    if len(num)>=2 and len(num)<3:\n",
    "        num = '0' + str(num) \n",
    "    if int(num) == 777:\n",
    "        sum_of_win += 200\n",
    "    if int(num) == 999:\n",
    "        sum_of_win += 100\n",
    "    if int(num) == 555:\n",
    "        sum_of_win += 50\n",
    "    if int(num) == 333:\n",
    "        sum_of_win += 15\n",
    "    if int(num) == 111:\n",
    "        sum_of_win += 10\n",
    "    if num[1:3] == '77' and num[0] != '7': # Здесь проверка чтобы первый символ не был 7\n",
    "        sum_of_win += 5\n",
    "    if num[-1] == '7' and num[1] != '7': # Здесь проверка чтобы второй символ не был 7\n",
    "        sum_of_win += 3\n",
    "    if num[1:3] == '00':                 # Здесь проверка чтобы последние два символа были 0\n",
    "        sum_of_win += 2\n",
    "    if num[1] != '0' and num[2] == '0':  # Здесь проверка чтобы последний символ был 0, а второй не был 0\n",
    "        sum_of_win += 1  \n",
    "print(sum_of_win/trials) #средний выигрыш"
   ]
  },
  {
   "cell_type": "markdown",
   "id": "199a2fbe",
   "metadata": {},
   "source": [
    "Так как игра стоит 1 руб, а средний выигрыш около 0,8 руб, это занятие явно не выгодно игроку."
   ]
  },
  {
   "cell_type": "markdown",
   "id": "ea7bc68e",
   "metadata": {},
   "source": [
    "# Дополнительное задание повышенной сложности. \n",
    "Теоретически рассчитать средний выигрыш (проигрыш) и сравнить с результатами моделирования"
   ]
  },
  {
   "cell_type": "code",
   "execution_count": 3,
   "id": "448867bc",
   "metadata": {},
   "outputs": [
    {
     "data": {
      "text/plain": [
       "0.8"
      ]
     },
     "execution_count": 3,
     "metadata": {},
     "output_type": "execute_result"
    }
   ],
   "source": [
    "200*1/1000+100*1/1000+50*1/1000+15*1/1000+10*1/1000+(5*9/1000+3*90/1000+2*10/1000+1*90/1000) # Исправила"
   ]
  },
  {
   "cell_type": "markdown",
   "id": "638ad342",
   "metadata": {},
   "source": [
    "Теоретический выигрыш и смоделированный почти не отличаются."
   ]
  }
 ],
 "metadata": {
  "kernelspec": {
   "display_name": "Python 3",
   "language": "python",
   "name": "python3"
  },
  "language_info": {
   "codemirror_mode": {
    "name": "ipython",
    "version": 3
   },
   "file_extension": ".py",
   "mimetype": "text/x-python",
   "name": "python",
   "nbconvert_exporter": "python",
   "pygments_lexer": "ipython3",
   "version": "3.8.8"
  }
 },
 "nbformat": 4,
 "nbformat_minor": 5
}
