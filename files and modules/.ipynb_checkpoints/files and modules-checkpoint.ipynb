{
 "cells": [
  {
   "cell_type": "markdown",
   "metadata": {},
   "source": [
    "Переведите содержимое файла purchase_log.txt в словарь purchases вида:\n",
    "{‘1840e0b9d4’: ‘Продукты’, …}"
   ]
  },
  {
   "cell_type": "code",
   "execution_count": 1,
   "metadata": {},
   "outputs": [],
   "source": [
    "import json"
   ]
  },
  {
   "cell_type": "code",
   "execution_count": 2,
   "metadata": {},
   "outputs": [],
   "source": [
    "# i = 0\n",
    "purchases = {}\n",
    "with open('purchase_log.txt', encoding='utf-8') as f:\n",
    "    for line in f:\n",
    "        line = line.strip()\n",
    "        \n",
    "        dict_ = json.loads(line)\n",
    "        for key, value in dict_.items():\n",
    "            purchases[dict_['user_id']] = dict_['category']       \n",
    "#         i += 1\n",
    "#         if i > 5:\n",
    "#             break\n",
    "    del(purchases['user_id'])\n",
    "#     print(purchases)"
   ]
  },
  {
   "cell_type": "code",
   "execution_count": 3,
   "metadata": {},
   "outputs": [
    {
     "name": "stdout",
     "output_type": "stream",
     "text": [
      "1840e0b9d4 Продукты\n",
      "4e4f90fcfb Электроника\n",
      "afea8d72fc Электроника\n",
      "373a6055fe Бытовая техника\n",
      "9b2ab046f3 Электроника\n",
      "9f39d307c3 Электроника\n"
     ]
    }
   ],
   "source": [
    "i = 0\n",
    "for k, v in purchases.items():\n",
    "    print(k, v)\n",
    "    i += 1\n",
    "    if i > 5:\n",
    "        break"
   ]
  },
  {
   "cell_type": "markdown",
   "metadata": {},
   "source": [
    "Для каждого user_id в файле visit_log.csv определите третий столбец с категорией покупки (если покупка была, сам файл visit_log.csv изменять не надо). Запишите в файл funnel.csv визиты из файла visit_log.csv, в которых были покупки с указанием категории.\n",
    "Учтите условия на данные:\n",
    "содержимое purchase_log.txt помещается в оперативную память компьютера\n",
    "содержимое visit_log.csv - нет; используйте только построчную обработку этого файла"
   ]
  },
  {
   "cell_type": "code",
   "execution_count": 24,
   "metadata": {},
   "outputs": [],
   "source": [
    "# i = 0\n",
    "with open('visit_log.csv', encoding='utf-8') as f:\n",
    "    with open('funnel.csv','w', encoding='utf-8') as fwrite:\n",
    "        for line in f:\n",
    "            line_list = line.strip().split(',')            \n",
    "            if line_list[0] in purchases.keys():\n",
    "                line_with_category = line.strip() + ',' + purchases[line_list[0]] + '\\n'\n",
    "                fwrite.write(line_with_category)   \n",
    "#             i += 1\n",
    "#             if i > 200:\n",
    "#                 break"
   ]
  }
 ],
 "metadata": {
  "kernelspec": {
   "display_name": "Python 3",
   "language": "python",
   "name": "python3"
  },
  "language_info": {
   "codemirror_mode": {
    "name": "ipython",
    "version": 3
   },
   "file_extension": ".py",
   "mimetype": "text/x-python",
   "name": "python",
   "nbconvert_exporter": "python",
   "pygments_lexer": "ipython3",
   "version": "3.8.3"
  }
 },
 "nbformat": 4,
 "nbformat_minor": 4
}
