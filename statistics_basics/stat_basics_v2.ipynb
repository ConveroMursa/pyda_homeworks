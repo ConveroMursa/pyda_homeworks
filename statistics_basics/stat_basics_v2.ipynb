{
 "cells": [
  {
   "cell_type": "markdown",
   "metadata": {},
   "source": [
    "# Домашнее задание к лекции \"Базовые понятия статистики\""
   ]
  },
  {
   "cell_type": "markdown",
   "metadata": {},
   "source": [
    "## Обязательная часть\n",
    "\n",
    "Будем осуществлять работу с непростым [набором данных](https://raw.githubusercontent.com/obulygin/pyda_homeworks/master/statistics_basics/horse_data.csv) о состоянии здоровья лошадей, испытывающих кишечные колики. \n",
    "\n",
    "### Задание 1. Базовое изучение\n",
    "\n",
    "Изучить представленный набор данных на основе [описания его столбцов](https://raw.githubusercontent.com/obulygin/pyda_homeworks/master/statistics_basics/horse_data.names) и выбрать 8 столбцов для дальнейшего изучения (среди них должны быть как числовые, так и категориальные). Провести расчет базовых метрик для них, кратко описать результаты."
   ]
  },
  {
   "cell_type": "code",
   "execution_count": 38,
   "metadata": {},
   "outputs": [],
   "source": [
    "import pandas as pd"
   ]
  },
  {
   "cell_type": "code",
   "execution_count": 39,
   "metadata": {},
   "outputs": [],
   "source": [
    "columns = ['surgery?', 'Age', 'Hospital Number', 'rectal temperature', 'pulse', 'respiratory rate', 'temperature of extremities', 'peripheral pulse', 'mucous membranes', 'capillary refill time', 'pain', 'peristalsis', 'abdominal distension', 'nasogastric tube', 'nasogastric reflux', 'nasogastric reflux PH', 'rectal examination', 'abdomen', 'packed cell volume', 'total protein', 'abdominocentesis appearance', 'abdomcentesis total protein', 'outcome', 'surgical lesion?', 'type of lesion1', 'type of lesion2', 'type of lesion3', 'cp_data']"
   ]
  },
  {
   "cell_type": "code",
   "execution_count": 40,
   "metadata": {},
   "outputs": [
    {
     "data": {
      "text/html": [
       "<div>\n",
       "<style scoped>\n",
       "    .dataframe tbody tr th:only-of-type {\n",
       "        vertical-align: middle;\n",
       "    }\n",
       "\n",
       "    .dataframe tbody tr th {\n",
       "        vertical-align: top;\n",
       "    }\n",
       "\n",
       "    .dataframe thead th {\n",
       "        text-align: right;\n",
       "    }\n",
       "</style>\n",
       "<table border=\"1\" class=\"dataframe\">\n",
       "  <thead>\n",
       "    <tr style=\"text-align: right;\">\n",
       "      <th></th>\n",
       "      <th>surgery?</th>\n",
       "      <th>Age</th>\n",
       "      <th>Hospital Number</th>\n",
       "      <th>rectal temperature</th>\n",
       "      <th>pulse</th>\n",
       "      <th>respiratory rate</th>\n",
       "      <th>temperature of extremities</th>\n",
       "      <th>peripheral pulse</th>\n",
       "      <th>mucous membranes</th>\n",
       "      <th>capillary refill time</th>\n",
       "      <th>...</th>\n",
       "      <th>packed cell volume</th>\n",
       "      <th>total protein</th>\n",
       "      <th>abdominocentesis appearance</th>\n",
       "      <th>abdomcentesis total protein</th>\n",
       "      <th>outcome</th>\n",
       "      <th>surgical lesion?</th>\n",
       "      <th>type of lesion1</th>\n",
       "      <th>type of lesion2</th>\n",
       "      <th>type of lesion3</th>\n",
       "      <th>cp_data</th>\n",
       "    </tr>\n",
       "  </thead>\n",
       "  <tbody>\n",
       "    <tr>\n",
       "      <th>0</th>\n",
       "      <td>1.0</td>\n",
       "      <td>1</td>\n",
       "      <td>534817</td>\n",
       "      <td>39.2</td>\n",
       "      <td>88.0</td>\n",
       "      <td>20.0</td>\n",
       "      <td>NaN</td>\n",
       "      <td>NaN</td>\n",
       "      <td>4.0</td>\n",
       "      <td>1.0</td>\n",
       "      <td>...</td>\n",
       "      <td>50.0</td>\n",
       "      <td>85.0</td>\n",
       "      <td>2.0</td>\n",
       "      <td>2.0</td>\n",
       "      <td>3.0</td>\n",
       "      <td>2</td>\n",
       "      <td>2208</td>\n",
       "      <td>0</td>\n",
       "      <td>0</td>\n",
       "      <td>2</td>\n",
       "    </tr>\n",
       "    <tr>\n",
       "      <th>1</th>\n",
       "      <td>2.0</td>\n",
       "      <td>1</td>\n",
       "      <td>530334</td>\n",
       "      <td>38.3</td>\n",
       "      <td>40.0</td>\n",
       "      <td>24.0</td>\n",
       "      <td>1.0</td>\n",
       "      <td>1.0</td>\n",
       "      <td>3.0</td>\n",
       "      <td>1.0</td>\n",
       "      <td>...</td>\n",
       "      <td>33.0</td>\n",
       "      <td>6.7</td>\n",
       "      <td>NaN</td>\n",
       "      <td>NaN</td>\n",
       "      <td>1.0</td>\n",
       "      <td>2</td>\n",
       "      <td>0</td>\n",
       "      <td>0</td>\n",
       "      <td>0</td>\n",
       "      <td>1</td>\n",
       "    </tr>\n",
       "    <tr>\n",
       "      <th>2</th>\n",
       "      <td>1.0</td>\n",
       "      <td>9</td>\n",
       "      <td>5290409</td>\n",
       "      <td>39.1</td>\n",
       "      <td>164.0</td>\n",
       "      <td>84.0</td>\n",
       "      <td>4.0</td>\n",
       "      <td>1.0</td>\n",
       "      <td>6.0</td>\n",
       "      <td>2.0</td>\n",
       "      <td>...</td>\n",
       "      <td>48.0</td>\n",
       "      <td>7.2</td>\n",
       "      <td>3.0</td>\n",
       "      <td>5.3</td>\n",
       "      <td>2.0</td>\n",
       "      <td>1</td>\n",
       "      <td>2208</td>\n",
       "      <td>0</td>\n",
       "      <td>0</td>\n",
       "      <td>1</td>\n",
       "    </tr>\n",
       "    <tr>\n",
       "      <th>3</th>\n",
       "      <td>2.0</td>\n",
       "      <td>1</td>\n",
       "      <td>530255</td>\n",
       "      <td>37.3</td>\n",
       "      <td>104.0</td>\n",
       "      <td>35.0</td>\n",
       "      <td>NaN</td>\n",
       "      <td>NaN</td>\n",
       "      <td>6.0</td>\n",
       "      <td>2.0</td>\n",
       "      <td>...</td>\n",
       "      <td>74.0</td>\n",
       "      <td>7.4</td>\n",
       "      <td>NaN</td>\n",
       "      <td>NaN</td>\n",
       "      <td>2.0</td>\n",
       "      <td>2</td>\n",
       "      <td>4300</td>\n",
       "      <td>0</td>\n",
       "      <td>0</td>\n",
       "      <td>2</td>\n",
       "    </tr>\n",
       "    <tr>\n",
       "      <th>4</th>\n",
       "      <td>2.0</td>\n",
       "      <td>1</td>\n",
       "      <td>528355</td>\n",
       "      <td>NaN</td>\n",
       "      <td>NaN</td>\n",
       "      <td>NaN</td>\n",
       "      <td>2.0</td>\n",
       "      <td>1.0</td>\n",
       "      <td>3.0</td>\n",
       "      <td>1.0</td>\n",
       "      <td>...</td>\n",
       "      <td>NaN</td>\n",
       "      <td>NaN</td>\n",
       "      <td>NaN</td>\n",
       "      <td>NaN</td>\n",
       "      <td>1.0</td>\n",
       "      <td>2</td>\n",
       "      <td>0</td>\n",
       "      <td>0</td>\n",
       "      <td>0</td>\n",
       "      <td>2</td>\n",
       "    </tr>\n",
       "  </tbody>\n",
       "</table>\n",
       "<p>5 rows × 28 columns</p>\n",
       "</div>"
      ],
      "text/plain": [
       "   surgery?  Age  Hospital Number  rectal temperature  pulse  \\\n",
       "0       1.0    1           534817                39.2   88.0   \n",
       "1       2.0    1           530334                38.3   40.0   \n",
       "2       1.0    9          5290409                39.1  164.0   \n",
       "3       2.0    1           530255                37.3  104.0   \n",
       "4       2.0    1           528355                 NaN    NaN   \n",
       "\n",
       "   respiratory rate  temperature of extremities  peripheral pulse  \\\n",
       "0              20.0                         NaN               NaN   \n",
       "1              24.0                         1.0               1.0   \n",
       "2              84.0                         4.0               1.0   \n",
       "3              35.0                         NaN               NaN   \n",
       "4               NaN                         2.0               1.0   \n",
       "\n",
       "   mucous membranes  capillary refill time  ...  packed cell volume  \\\n",
       "0               4.0                    1.0  ...                50.0   \n",
       "1               3.0                    1.0  ...                33.0   \n",
       "2               6.0                    2.0  ...                48.0   \n",
       "3               6.0                    2.0  ...                74.0   \n",
       "4               3.0                    1.0  ...                 NaN   \n",
       "\n",
       "   total protein  abdominocentesis appearance  abdomcentesis total protein  \\\n",
       "0           85.0                          2.0                          2.0   \n",
       "1            6.7                          NaN                          NaN   \n",
       "2            7.2                          3.0                          5.3   \n",
       "3            7.4                          NaN                          NaN   \n",
       "4            NaN                          NaN                          NaN   \n",
       "\n",
       "   outcome  surgical lesion?  type of lesion1  type of lesion2  \\\n",
       "0      3.0                 2             2208                0   \n",
       "1      1.0                 2                0                0   \n",
       "2      2.0                 1             2208                0   \n",
       "3      2.0                 2             4300                0   \n",
       "4      1.0                 2                0                0   \n",
       "\n",
       "   type of lesion3  cp_data  \n",
       "0                0        2  \n",
       "1                0        1  \n",
       "2                0        1  \n",
       "3                0        2  \n",
       "4                0        2  \n",
       "\n",
       "[5 rows x 28 columns]"
      ]
     },
     "execution_count": 40,
     "metadata": {},
     "output_type": "execute_result"
    }
   ],
   "source": [
    "horses = pd.read_csv('horse_data.csv', names=columns, header=0, na_values='?')\n",
    "horses.head()"
   ]
  },
  {
   "cell_type": "code",
   "execution_count": 41,
   "metadata": {},
   "outputs": [
    {
     "data": {
      "text/plain": [
       "surgery?                        0.33\n",
       "Age                             0.00\n",
       "Hospital Number                 0.00\n",
       "rectal temperature             20.07\n",
       "pulse                           8.03\n",
       "respiratory rate               19.40\n",
       "temperature of extremities     18.73\n",
       "peripheral pulse               23.08\n",
       "mucous membranes               15.38\n",
       "capillary refill time          10.70\n",
       "pain                           18.39\n",
       "peristalsis                    14.72\n",
       "abdominal distension           18.73\n",
       "nasogastric tube               34.45\n",
       "nasogastric reflux             35.12\n",
       "nasogastric reflux PH          82.27\n",
       "rectal examination             34.11\n",
       "abdomen                        39.46\n",
       "packed cell volume              9.70\n",
       "total protein                  11.04\n",
       "abdominocentesis appearance    54.85\n",
       "abdomcentesis total protein    65.89\n",
       "outcome                         0.33\n",
       "surgical lesion?                0.00\n",
       "type of lesion1                 0.00\n",
       "type of lesion2                 0.00\n",
       "type of lesion3                 0.00\n",
       "cp_data                         0.00\n",
       "dtype: float64"
      ]
     },
     "execution_count": 41,
     "metadata": {},
     "output_type": "execute_result"
    }
   ],
   "source": [
    "(horses.isna().mean()*100).round(2)"
   ]
  },
  {
   "cell_type": "code",
   "execution_count": 42,
   "metadata": {},
   "outputs": [],
   "source": [
    "horses_8 = horses[['surgery?', 'Age', 'rectal temperature', 'pulse', 'mucous membranes', 'pain', 'abdominal distension','outcome']]"
   ]
  },
  {
   "cell_type": "markdown",
   "metadata": {},
   "source": [
    "Для количественных показателей найдем минимум, максимум, размах, среднее, медиану, квантили и межквартильный размах, СКО."
   ]
  },
  {
   "cell_type": "code",
   "execution_count": 43,
   "metadata": {},
   "outputs": [
    {
     "data": {
      "text/html": [
       "<div>\n",
       "<style scoped>\n",
       "    .dataframe tbody tr th:only-of-type {\n",
       "        vertical-align: middle;\n",
       "    }\n",
       "\n",
       "    .dataframe tbody tr th {\n",
       "        vertical-align: top;\n",
       "    }\n",
       "\n",
       "    .dataframe thead th {\n",
       "        text-align: right;\n",
       "    }\n",
       "</style>\n",
       "<table border=\"1\" class=\"dataframe\">\n",
       "  <thead>\n",
       "    <tr style=\"text-align: right;\">\n",
       "      <th></th>\n",
       "      <th>rectal temperature</th>\n",
       "      <th>pulse</th>\n",
       "    </tr>\n",
       "  </thead>\n",
       "  <tbody>\n",
       "    <tr>\n",
       "      <th>count</th>\n",
       "      <td>239.000000</td>\n",
       "      <td>275.000000</td>\n",
       "    </tr>\n",
       "    <tr>\n",
       "      <th>mean</th>\n",
       "      <td>38.166527</td>\n",
       "      <td>71.934545</td>\n",
       "    </tr>\n",
       "    <tr>\n",
       "      <th>std</th>\n",
       "      <td>0.733508</td>\n",
       "      <td>28.680522</td>\n",
       "    </tr>\n",
       "    <tr>\n",
       "      <th>min</th>\n",
       "      <td>35.400000</td>\n",
       "      <td>30.000000</td>\n",
       "    </tr>\n",
       "    <tr>\n",
       "      <th>25%</th>\n",
       "      <td>37.800000</td>\n",
       "      <td>48.000000</td>\n",
       "    </tr>\n",
       "    <tr>\n",
       "      <th>50%</th>\n",
       "      <td>38.200000</td>\n",
       "      <td>64.000000</td>\n",
       "    </tr>\n",
       "    <tr>\n",
       "      <th>75%</th>\n",
       "      <td>38.500000</td>\n",
       "      <td>88.000000</td>\n",
       "    </tr>\n",
       "    <tr>\n",
       "      <th>max</th>\n",
       "      <td>40.800000</td>\n",
       "      <td>184.000000</td>\n",
       "    </tr>\n",
       "  </tbody>\n",
       "</table>\n",
       "</div>"
      ],
      "text/plain": [
       "       rectal temperature       pulse\n",
       "count          239.000000  275.000000\n",
       "mean            38.166527   71.934545\n",
       "std              0.733508   28.680522\n",
       "min             35.400000   30.000000\n",
       "25%             37.800000   48.000000\n",
       "50%             38.200000   64.000000\n",
       "75%             38.500000   88.000000\n",
       "max             40.800000  184.000000"
      ]
     },
     "execution_count": 43,
     "metadata": {},
     "output_type": "execute_result"
    }
   ],
   "source": [
    "horses_2 = horses[['rectal temperature', 'pulse']]\n",
    "horses_2.describe()"
   ]
  },
  {
   "cell_type": "code",
   "execution_count": 44,
   "metadata": {},
   "outputs": [
    {
     "name": "stdout",
     "output_type": "stream",
     "text": [
      "Размах по показателю rectal temperature = 5.4\n",
      "Размах по показателю pulse = 154.0\n"
     ]
    }
   ],
   "source": [
    "print(f\"Размах по показателю rectal temperature = {round(horses_2['rectal temperature'].max() - horses_2['rectal temperature'].min(),2)}\")\n",
    "print(f\"Размах по показателю pulse = {horses_2['pulse'].max() - horses_2['pulse'].min()}\")"
   ]
  },
  {
   "cell_type": "code",
   "execution_count": 45,
   "metadata": {},
   "outputs": [
    {
     "name": "stdout",
     "output_type": "stream",
     "text": [
      "Межквартильный размах по показателю rectal temperature = 0.7\n",
      "Межквартильный размах по показателю pulse = 40.0\n"
     ]
    }
   ],
   "source": [
    "print(f\"Межквартильный размах по показателю rectal temperature = {round(horses_2['rectal temperature'].quantile(0.75) - horses_2['rectal temperature'].quantile(0.25),3)}\")\n",
    "print(f\"Межквартильный размах по показателю pulse = {horses_2['pulse'].quantile(0.75) - horses_2['pulse'].quantile(0.25)}\")"
   ]
  },
  {
   "cell_type": "markdown",
   "metadata": {},
   "source": [
    "Для качественных показателей найдем моду и распределение."
   ]
  },
  {
   "cell_type": "code",
   "execution_count": 46,
   "metadata": {
    "scrolled": true
   },
   "outputs": [
    {
     "name": "stdout",
     "output_type": "stream",
     "text": [
      "Значение моды для показателя surgery? 1.0\n",
      "1.0    180\n",
      "2.0    118\n",
      "Name: surgery?, dtype: int64\n",
      "Значение моды для показателя Age 1\n",
      "1    275\n",
      "9     24\n",
      "Name: Age, dtype: int64\n",
      "Значение моды для показателя mucous membranes 1.0\n",
      "1.0    79\n",
      "3.0    58\n",
      "4.0    41\n",
      "2.0    30\n",
      "5.0    25\n",
      "6.0    20\n",
      "Name: mucous membranes, dtype: int64\n",
      "Значение моды для показателя pain 3.0\n",
      "3.0    67\n",
      "2.0    59\n",
      "5.0    41\n",
      "4.0    39\n",
      "1.0    38\n",
      "Name: pain, dtype: int64\n",
      "Значение моды для показателя abdominal distension 1.0\n",
      "1.0    76\n",
      "2.0    65\n",
      "3.0    65\n",
      "4.0    37\n",
      "Name: abdominal distension, dtype: int64\n",
      "Значение моды для показателя outcome 1.0\n",
      "1.0    178\n",
      "2.0     76\n",
      "3.0     44\n",
      "Name: outcome, dtype: int64\n"
     ]
    }
   ],
   "source": [
    "for indicator in ['surgery?', 'Age','mucous membranes', 'pain', 'abdominal distension','outcome']:\n",
    "    print('Значение моды для показателя', indicator, horses_8[indicator].mode()[0])\n",
    "    print(horses_8[indicator].value_counts())"
   ]
  },
  {
   "cell_type": "markdown",
   "metadata": {},
   "source": [
    "В выборке представлены данные по большей частью взрослым, ранее прооперированным лошадям, с ректальной температурой выше нормы в 75% наблюдений. При этом у более чем 75% наблюдений отмечается повышенный пульс, кроме того имеются отдельные наблюдения где максимальный показатель пульса более чем в три раза превышает медианное значение. Слизистые оболочки в большей половине случаев указывают на патологические процессы. Чаще всего животные испытывают прерывистую легкую боль либо в находятся подавленном состоянии. Но при этом в подавляющем большинстве наблюдений у животных отсутствует сильное вздутие живота."
   ]
  },
  {
   "cell_type": "markdown",
   "metadata": {},
   "source": [
    "### Задание 2. Работа с выбросами\n",
    "\n",
    "В выбранных числовых столбцах найти выбросы, выдвинуть гипотезы об их причинах и проинтерпретировать результаты. Принять и обосновать решение о дальнейшей работе с ними."
   ]
  },
  {
   "cell_type": "code",
   "execution_count": 47,
   "metadata": {},
   "outputs": [
    {
     "name": "stdout",
     "output_type": "stream",
     "text": [
      "     rectal temperature  pulse\n",
      "43                 35.4  140.0\n",
      "140                36.0   42.0\n",
      "237                36.1   88.0\n",
      "79                 36.4   98.0\n",
      "117                36.5   78.0\n",
      "297                36.5  100.0\n",
      "250                36.6   42.0\n",
      "98                 39.6  108.0\n",
      "74                 39.7  100.0\n",
      "19                 39.9   72.0\n",
      "280                40.0   78.0\n",
      "258                40.8   72.0\n",
      "15                  NaN  128.0\n",
      "56                  NaN   64.0\n",
      "95                  NaN   84.0\n",
      "166                 NaN   44.0\n",
      "168                 NaN   65.0\n",
      "176                 NaN   68.0\n",
      "241                 NaN   36.0\n",
      "264                 NaN   56.0\n",
      "273                 NaN   76.0\n",
      "292                 NaN   78.0\n",
      "\n",
      "     rectal temperature  pulse\n",
      "40                 39.0  150.0\n",
      "274                38.8  150.0\n",
      "54                 38.6  160.0\n",
      "2                  39.1  164.0\n",
      "254                38.8  184.0\n",
      "116                39.5    NaN\n",
      "125                38.7    NaN\n",
      "150                39.3    NaN\n",
      "203                39.2    NaN\n",
      "\n"
     ]
    }
   ],
   "source": [
    "for i in ['rectal temperature', 'pulse']:\n",
    "    q1 = horses_2[i].quantile(0.25)\n",
    "    q3 = horses_2[i].quantile(0.75)\n",
    "    iqr = q3 - q1\n",
    "    lower_bound = q1 - (1.5 * iqr) \n",
    "    upper_bound = q3 + (1.5 * iqr)\n",
    "    remove_outliers = horses_2[horses_2[i].between(lower_bound, upper_bound, inclusive=True)].sort_values(i)\n",
    "    print(pd.concat([horses_2, remove_outliers]).drop_duplicates(keep=False).sort_values(i))\n",
    "    print()\n",
    "    remove_outliers = 0"
   ]
  },
  {
   "cell_type": "markdown",
   "metadata": {},
   "source": [
    "По обоим показателям рассчитанные выбросы не являются ошибкой заполнения или прибора измерения, т.к. такие показатели реально могут быть у лошадей в критическом состоянии. Нужно оставить эти наблюдения как есть."
   ]
  },
  {
   "cell_type": "markdown",
   "metadata": {},
   "source": [
    "### Задание 3. Работа с пропусками\n",
    "\n",
    "Рассчитать количество пропусков для всех выбранных столбцов. Принять и обосновать решение о методе работы с пропусками по каждому столбцу, сформировать датафрейм, в котором пропуски будут отсутствовать."
   ]
  },
  {
   "cell_type": "code",
   "execution_count": 48,
   "metadata": {},
   "outputs": [
    {
     "name": "stdout",
     "output_type": "stream",
     "text": [
      "<class 'pandas.core.frame.DataFrame'>\n",
      "RangeIndex: 299 entries, 0 to 298\n",
      "Data columns (total 8 columns):\n",
      " #   Column                Non-Null Count  Dtype  \n",
      "---  ------                --------------  -----  \n",
      " 0   surgery?              298 non-null    float64\n",
      " 1   Age                   299 non-null    int64  \n",
      " 2   rectal temperature    239 non-null    float64\n",
      " 3   pulse                 275 non-null    float64\n",
      " 4   mucous membranes      253 non-null    float64\n",
      " 5   pain                  244 non-null    float64\n",
      " 6   abdominal distension  243 non-null    float64\n",
      " 7   outcome               298 non-null    float64\n",
      "dtypes: float64(7), int64(1)\n",
      "memory usage: 18.8 KB\n"
     ]
    }
   ],
   "source": [
    "horses_8.info()"
   ]
  },
  {
   "cell_type": "code",
   "execution_count": 49,
   "metadata": {},
   "outputs": [
    {
     "data": {
      "text/plain": [
       "surgery?                 0.33\n",
       "Age                      0.00\n",
       "rectal temperature      20.07\n",
       "pulse                    8.03\n",
       "mucous membranes        15.38\n",
       "pain                    18.39\n",
       "abdominal distension    18.73\n",
       "outcome                  0.33\n",
       "dtype: float64"
      ]
     },
     "execution_count": 49,
     "metadata": {},
     "output_type": "execute_result"
    }
   ],
   "source": [
    "(horses_8.isna().mean()*100).round(2)"
   ]
  },
  {
   "cell_type": "code",
   "execution_count": 50,
   "metadata": {},
   "outputs": [
    {
     "data": {
      "text/html": [
       "<div>\n",
       "<style scoped>\n",
       "    .dataframe tbody tr th:only-of-type {\n",
       "        vertical-align: middle;\n",
       "    }\n",
       "\n",
       "    .dataframe tbody tr th {\n",
       "        vertical-align: top;\n",
       "    }\n",
       "\n",
       "    .dataframe thead th {\n",
       "        text-align: right;\n",
       "    }\n",
       "</style>\n",
       "<table border=\"1\" class=\"dataframe\">\n",
       "  <thead>\n",
       "    <tr style=\"text-align: right;\">\n",
       "      <th></th>\n",
       "      <th>surgery?</th>\n",
       "      <th>Age</th>\n",
       "      <th>rectal temperature</th>\n",
       "      <th>pulse</th>\n",
       "      <th>mucous membranes</th>\n",
       "      <th>pain</th>\n",
       "      <th>abdominal distension</th>\n",
       "      <th>outcome</th>\n",
       "    </tr>\n",
       "  </thead>\n",
       "  <tbody>\n",
       "    <tr>\n",
       "      <th>131</th>\n",
       "      <td>NaN</td>\n",
       "      <td>1</td>\n",
       "      <td>38.0</td>\n",
       "      <td>48.0</td>\n",
       "      <td>3.0</td>\n",
       "      <td>4.0</td>\n",
       "      <td>1.0</td>\n",
       "      <td>NaN</td>\n",
       "    </tr>\n",
       "  </tbody>\n",
       "</table>\n",
       "</div>"
      ],
      "text/plain": [
       "     surgery?  Age  rectal temperature  pulse  mucous membranes  pain  \\\n",
       "131       NaN    1                38.0   48.0               3.0   4.0   \n",
       "\n",
       "     abdominal distension  outcome  \n",
       "131                   1.0      NaN  "
      ]
     },
     "execution_count": 50,
     "metadata": {},
     "output_type": "execute_result"
    }
   ],
   "source": [
    "horses_8[horses_8['surgery?'].isna()==True]"
   ]
  },
  {
   "cell_type": "markdown",
   "metadata": {},
   "source": [
    "Удаление этой строки решит сразу две проблемы с пропусками - в первой и последней колонке, при этом базовые статистики не сильно изменятся. "
   ]
  },
  {
   "cell_type": "code",
   "execution_count": 51,
   "metadata": {
    "scrolled": false
   },
   "outputs": [
    {
     "name": "stdout",
     "output_type": "stream",
     "text": [
      "<class 'pandas.core.frame.DataFrame'>\n",
      "Int64Index: 298 entries, 0 to 298\n",
      "Data columns (total 8 columns):\n",
      " #   Column                Non-Null Count  Dtype  \n",
      "---  ------                --------------  -----  \n",
      " 0   surgery?              298 non-null    float64\n",
      " 1   Age                   298 non-null    int64  \n",
      " 2   rectal temperature    238 non-null    float64\n",
      " 3   pulse                 274 non-null    float64\n",
      " 4   mucous membranes      252 non-null    float64\n",
      " 5   pain                  243 non-null    float64\n",
      " 6   abdominal distension  242 non-null    float64\n",
      " 7   outcome               298 non-null    float64\n",
      "dtypes: float64(7), int64(1)\n",
      "memory usage: 21.0 KB\n"
     ]
    }
   ],
   "source": [
    "horses_8 = horses_8.dropna(subset=['surgery?'])\n",
    "horses_8.info()"
   ]
  },
  {
   "cell_type": "markdown",
   "metadata": {},
   "source": [
    "Пропуски в pain можно заполнить константой 'no info', т.к. этот показатель является субъективными и распределен относительно равномерно по категориям."
   ]
  },
  {
   "cell_type": "code",
   "execution_count": 52,
   "metadata": {},
   "outputs": [
    {
     "name": "stdout",
     "output_type": "stream",
     "text": [
      "<class 'pandas.core.frame.DataFrame'>\n",
      "Int64Index: 298 entries, 0 to 298\n",
      "Data columns (total 8 columns):\n",
      " #   Column                Non-Null Count  Dtype  \n",
      "---  ------                --------------  -----  \n",
      " 0   surgery?              298 non-null    float64\n",
      " 1   Age                   298 non-null    int64  \n",
      " 2   rectal temperature    238 non-null    float64\n",
      " 3   pulse                 274 non-null    float64\n",
      " 4   mucous membranes      252 non-null    float64\n",
      " 5   pain                  298 non-null    object \n",
      " 6   abdominal distension  242 non-null    float64\n",
      " 7   outcome               298 non-null    float64\n",
      "dtypes: float64(6), int64(1), object(1)\n",
      "memory usage: 21.0+ KB\n"
     ]
    }
   ],
   "source": [
    "horses_8['pain'].fillna('no_info', inplace=True)\n",
    "horses_8.info()"
   ]
  },
  {
   "cell_type": "markdown",
   "metadata": {},
   "source": [
    "Пропуски в mucous membranes и abdominal distension заменяем модой, т.к. это хотя и качественные, но более четко измеряемые показатели на основании которых можно предположить какова температура животного."
   ]
  },
  {
   "cell_type": "code",
   "execution_count": 53,
   "metadata": {},
   "outputs": [
    {
     "name": "stdout",
     "output_type": "stream",
     "text": [
      "<class 'pandas.core.frame.DataFrame'>\n",
      "Int64Index: 298 entries, 0 to 298\n",
      "Data columns (total 8 columns):\n",
      " #   Column                Non-Null Count  Dtype  \n",
      "---  ------                --------------  -----  \n",
      " 0   surgery?              298 non-null    float64\n",
      " 1   Age                   298 non-null    int64  \n",
      " 2   rectal temperature    238 non-null    float64\n",
      " 3   pulse                 274 non-null    float64\n",
      " 4   mucous membranes      298 non-null    float64\n",
      " 5   pain                  298 non-null    object \n",
      " 6   abdominal distension  298 non-null    float64\n",
      " 7   outcome               298 non-null    float64\n",
      "dtypes: float64(6), int64(1), object(1)\n",
      "memory usage: 21.0+ KB\n"
     ]
    }
   ],
   "source": [
    "horses_8['mucous membranes'].fillna(horses_8['mucous membranes'].mode()[0], inplace=True)\n",
    "horses_8['abdominal distension'].fillna(horses_8['abdominal distension'].mode()[0], inplace=True)\n",
    "horses_8.info()"
   ]
  },
  {
   "cell_type": "markdown",
   "metadata": {},
   "source": [
    "Так как показатели - цвет слизистых оболочек и пульс связаны, заполним пропуски в столбце pulse медианой по группировке по показателю цвет слизистых оболочек"
   ]
  },
  {
   "cell_type": "code",
   "execution_count": 54,
   "metadata": {},
   "outputs": [
    {
     "name": "stdout",
     "output_type": "stream",
     "text": [
      "<class 'pandas.core.frame.DataFrame'>\n",
      "Int64Index: 298 entries, 0 to 298\n",
      "Data columns (total 8 columns):\n",
      " #   Column                Non-Null Count  Dtype  \n",
      "---  ------                --------------  -----  \n",
      " 0   surgery?              298 non-null    float64\n",
      " 1   Age                   298 non-null    int64  \n",
      " 2   rectal temperature    238 non-null    float64\n",
      " 3   pulse                 298 non-null    float64\n",
      " 4   mucous membranes      298 non-null    float64\n",
      " 5   pain                  298 non-null    object \n",
      " 6   abdominal distension  298 non-null    float64\n",
      " 7   outcome               298 non-null    float64\n",
      "dtypes: float64(6), int64(1), object(1)\n",
      "memory usage: 21.0+ KB\n"
     ]
    }
   ],
   "source": [
    "horses_8['pulse'].fillna(horses_8.groupby('mucous membranes')['pulse'].transform('median'), inplace=True)\n",
    "horses_8.info()"
   ]
  },
  {
   "cell_type": "markdown",
   "metadata": {},
   "source": [
    "Так как показатели - цвет слизистых оболочек и ректальная температура связаны, заполним пропуски в столбце rectal temperature медианой по группировке по показателю цвет слизистых оболочек. Кроме того в группировку для большей точности добавляем показатель abdominal distension, так как он тоже может косвенно влиять на температуру."
   ]
  },
  {
   "cell_type": "code",
   "execution_count": 55,
   "metadata": {},
   "outputs": [
    {
     "name": "stdout",
     "output_type": "stream",
     "text": [
      "<class 'pandas.core.frame.DataFrame'>\n",
      "Int64Index: 298 entries, 0 to 298\n",
      "Data columns (total 8 columns):\n",
      " #   Column                Non-Null Count  Dtype  \n",
      "---  ------                --------------  -----  \n",
      " 0   surgery?              298 non-null    float64\n",
      " 1   Age                   298 non-null    int64  \n",
      " 2   rectal temperature    298 non-null    float64\n",
      " 3   pulse                 298 non-null    float64\n",
      " 4   mucous membranes      298 non-null    float64\n",
      " 5   pain                  298 non-null    object \n",
      " 6   abdominal distension  298 non-null    float64\n",
      " 7   outcome               298 non-null    float64\n",
      "dtypes: float64(6), int64(1), object(1)\n",
      "memory usage: 21.0+ KB\n"
     ]
    }
   ],
   "source": [
    "horses_8['rectal temperature'].fillna(horses_8.groupby(['mucous membranes', 'abdominal distension'])['rectal temperature'].transform('median'), inplace=True)\n",
    "horses_8.info()"
   ]
  },
  {
   "cell_type": "markdown",
   "metadata": {},
   "source": [
    "## Дополнительная часть (необязательная)\n",
    "\n",
    "Выполнить задания 1-3 для всего набора данных."
   ]
  },
  {
   "cell_type": "markdown",
   "metadata": {},
   "source": [
    "#### ПРИМЕЧАНИЕ\n",
    "Домашнее задание сдается ссылкой на репозиторий [GitHub](https://github.com/).\n",
    "Не сможем проверить или помочь, если вы пришлете:\n",
    "- файлы;\n",
    "- архивы;\n",
    "- скриншоты кода.\n",
    "\n",
    "Все обсуждения и консультации по выполнению домашнего задания ведутся только на соответствующем канале в slack.\n",
    "\n",
    "##### Как правильно задавать вопросы аспирантам, преподавателям и коллегам\n",
    "Прежде чем задать вопрос, попробуйте найти ответ в интернете. Навык самостоятельного поиска информации — один из важнейших. Каждый практикующий специалист любого уровня делает это ежедневно.\n",
    "\n",
    "Сформулируйте вопрос по алгоритму:  \n",
    "1) Что я делаю?  \n",
    "2) Какого результата я ожидаю?  \n",
    "3) Как фактический результат отличается от ожидаемого?  \n",
    "4) Что я уже попробовал сделать, чтобы исправить проблему?  \n",
    "\n",
    "По возможности прикрепите к вопросу скриншоты либо ссылки на код. Не выкладывайте все решение, оставляйте только проблемный и воспроизводимый участок кода."
   ]
  }
 ],
 "metadata": {
  "kernelspec": {
   "display_name": "Python 3",
   "language": "python",
   "name": "python3"
  },
  "language_info": {
   "codemirror_mode": {
    "name": "ipython",
    "version": 3
   },
   "file_extension": ".py",
   "mimetype": "text/x-python",
   "name": "python",
   "nbconvert_exporter": "python",
   "pygments_lexer": "ipython3",
   "version": "3.8.8"
  }
 },
 "nbformat": 4,
 "nbformat_minor": 2
}
